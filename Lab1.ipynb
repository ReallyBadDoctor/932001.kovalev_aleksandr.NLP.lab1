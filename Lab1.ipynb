{
 "cells": [
  {
   "cell_type": "code",
   "execution_count": 1,
   "id": "35d0e280",
   "metadata": {},
   "outputs": [],
   "source": [
    "import nltk\n",
    "from nltk.tokenize import word_tokenize\n",
    "import pymorphy2\n",
    "import re"
   ]
  },
  {
   "cell_type": "code",
   "execution_count": 2,
   "id": "48ac815d",
   "metadata": {},
   "outputs": [],
   "source": [
    "with open('lab1.txt', 'r', encoding='utf-8') as f:\n",
    "    lines = f.read()"
   ]
  },
  {
   "cell_type": "code",
   "execution_count": 3,
   "id": "2be185f3",
   "metadata": {},
   "outputs": [],
   "source": [
    "text = lines.replace('\\n', '. ')[:-1]\n",
    "text = re.sub(r'[^\\w\\s]', '', text) "
   ]
  },
  {
   "cell_type": "code",
   "execution_count": 4,
   "id": "a67135e7",
   "metadata": {},
   "outputs": [
    {
     "name": "stderr",
     "output_type": "stream",
     "text": [
      "[nltk_data] Downloading package punkt to\n",
      "[nltk_data]     C:\\Users\\Alexandr\\AppData\\Roaming\\nltk_data...\n",
      "[nltk_data]   Package punkt is already up-to-date!\n"
     ]
    },
    {
     "data": {
      "text/plain": [
       "True"
      ]
     },
     "execution_count": 4,
     "metadata": {},
     "output_type": "execute_result"
    }
   ],
   "source": [
    "nltk.download('punkt')"
   ]
  },
  {
   "cell_type": "code",
   "execution_count": 5,
   "id": "bc31b53f",
   "metadata": {},
   "outputs": [],
   "source": [
    "text_token = word_tokenize(text)"
   ]
  },
  {
   "cell_type": "code",
   "execution_count": 6,
   "id": "62cdf214",
   "metadata": {},
   "outputs": [],
   "source": [
    "ma = pymorphy2.MorphAnalyzer()"
   ]
  },
  {
   "cell_type": "code",
   "execution_count": 7,
   "id": "58bf00b0",
   "metadata": {},
   "outputs": [],
   "source": [
    "pos = []\n",
    "gender = []\n",
    "number = []\n",
    "case = []\n",
    "text_result = []\n",
    "for i in text_token: \n",
    "    got_pa = ma.parse(i)[0]\n",
    "    text_result.append(got_pa.normal_form)\n",
    "    pos.append(got_pa.tag.POS)\n",
    "    gender.append(got_pa.tag.gender)\n",
    "    number.append(got_pa.tag.number)\n",
    "    case.append(got_pa.tag.case)"
   ]
  },
  {
   "cell_type": "code",
   "execution_count": 11,
   "id": "ad42c359",
   "metadata": {
    "scrolled": true
   },
   "outputs": [
    {
     "name": "stdout",
     "output_type": "stream",
     "text": [
      "мой продюсер\n",
      "мой продюсер\n",
      "мой муж\n",
      "любимый звук\n",
      "мой концерт\n",
      "мой шмотки\n",
      "мой манера\n",
      "манера жена\n",
      "фанера этот\n",
      "этот сумка\n"
     ]
    }
   ],
   "source": [
    "uses = ['NOUN', 'ADJF', 'ADJS']\n",
    "for i in range(len(pos) - 1): \n",
    "    if gender[i] == gender[i + 1] and number[i] == number[i + 1] and case[i] == case[i + 1] and (pos[i] in uses or pos[i + 1] in uses):\n",
    "        print(text_result[i], text_result[i + 1])"
   ]
  },
  {
   "cell_type": "code",
   "execution_count": null,
   "id": "e1ee628c",
   "metadata": {},
   "outputs": [],
   "source": []
  }
 ],
 "metadata": {
  "kernelspec": {
   "display_name": "Python 3 (ipykernel)",
   "language": "python",
   "name": "python3"
  },
  "language_info": {
   "codemirror_mode": {
    "name": "ipython",
    "version": 3
   },
   "file_extension": ".py",
   "mimetype": "text/x-python",
   "name": "python",
   "nbconvert_exporter": "python",
   "pygments_lexer": "ipython3",
   "version": "3.9.13"
  }
 },
 "nbformat": 4,
 "nbformat_minor": 5
}
